{
 "cells": [
  {
   "cell_type": "code",
   "execution_count": 1,
   "metadata": {},
   "outputs": [],
   "source": [
    "import numpy as np\n",
    "import nolds\n",
    "from scipy import interpolate\n",
    "from scipy import signal\n",
    "import pandas as pd\n",
    "import matplotlib.patches as mpatches\n",
    "from collections import OrderedDict\n",
    "from matplotlib import style\n",
    "import matplotlib.pyplot as plt\n",
    "import pylab as plot\n",
    "style.use('ggplot')\n",
    "params = {'legend.fontsize': 20,\n",
    "          'legend.handlelength': 2,\n",
    "         'axes.titlesize' : 20,\n",
    "          'axes.labelsize' : 10,\n",
    "          'lines.linewidth' : 2,\n",
    "          'lines.markersize' : 5,\n",
    "          'xtick.labelsize' : 15,\n",
    "          'ytick.labelsize' : 15}\n",
    "plot.rcParams.update(params)"
   ]
  },
  {
   "cell_type": "code",
   "execution_count": 2,
   "metadata": {},
   "outputs": [
    {
     "data": {
      "text/html": [
       "<div>\n",
       "<style scoped>\n",
       "    .dataframe tbody tr th:only-of-type {\n",
       "        vertical-align: middle;\n",
       "    }\n",
       "\n",
       "    .dataframe tbody tr th {\n",
       "        vertical-align: top;\n",
       "    }\n",
       "\n",
       "    .dataframe thead th {\n",
       "        text-align: right;\n",
       "    }\n",
       "</style>\n",
       "<table border=\"1\" class=\"dataframe\">\n",
       "  <thead>\n",
       "    <tr style=\"text-align: right;\">\n",
       "      <th></th>\n",
       "      <th>RrInterval</th>\n",
       "    </tr>\n",
       "    <tr>\n",
       "      <th>timestamp</th>\n",
       "      <th></th>\n",
       "    </tr>\n",
       "  </thead>\n",
       "  <tbody>\n",
       "    <tr>\n",
       "      <th>2018-07-03 16:17:19.540</th>\n",
       "      <td>700</td>\n",
       "    </tr>\n",
       "    <tr>\n",
       "      <th>2018-07-03 16:02:18.625</th>\n",
       "      <td>744</td>\n",
       "    </tr>\n",
       "    <tr>\n",
       "      <th>2018-07-03 16:05:07.844</th>\n",
       "      <td>737</td>\n",
       "    </tr>\n",
       "    <tr>\n",
       "      <th>2018-07-03 16:08:22.951</th>\n",
       "      <td>712</td>\n",
       "    </tr>\n",
       "    <tr>\n",
       "      <th>2018-07-03 16:03:24.435</th>\n",
       "      <td>699</td>\n",
       "    </tr>\n",
       "    <tr>\n",
       "      <th>2018-07-03 16:15:23.514</th>\n",
       "      <td>732</td>\n",
       "    </tr>\n",
       "    <tr>\n",
       "      <th>2018-07-03 16:03:19.566</th>\n",
       "      <td>724</td>\n",
       "    </tr>\n",
       "    <tr>\n",
       "      <th>2018-07-03 16:12:39.700</th>\n",
       "      <td>745</td>\n",
       "    </tr>\n",
       "    <tr>\n",
       "      <th>2018-07-03 16:07:59.388</th>\n",
       "      <td>755</td>\n",
       "    </tr>\n",
       "    <tr>\n",
       "      <th>2018-07-03 16:12:41.642</th>\n",
       "      <td>705</td>\n",
       "    </tr>\n",
       "  </tbody>\n",
       "</table>\n",
       "</div>"
      ],
      "text/plain": [
       "                         RrInterval\n",
       "timestamp                          \n",
       "2018-07-03 16:17:19.540         700\n",
       "2018-07-03 16:02:18.625         744\n",
       "2018-07-03 16:05:07.844         737\n",
       "2018-07-03 16:08:22.951         712\n",
       "2018-07-03 16:03:24.435         699\n",
       "2018-07-03 16:15:23.514         732\n",
       "2018-07-03 16:03:19.566         724\n",
       "2018-07-03 16:12:39.700         745\n",
       "2018-07-03 16:07:59.388         755\n",
       "2018-07-03 16:12:41.642         705"
      ]
     },
     "execution_count": 2,
     "metadata": {},
     "output_type": "execute_result"
    }
   ],
   "source": [
    "import json\n",
    "\n",
    "# Load data example \n",
    "with open('data_example/2b3d7a98-a1fb-47ad-9705-4a91d448da9b_RrInterval_2018-07-03T160210842.json') as f:\n",
    "    data = json.load(f)\n",
    "\n",
    "import pandas as pd\n",
    "\n",
    "data_field = data[\"data\"]\n",
    "# Split fields in timestamp & value\n",
    "df_exploration = pd.DataFrame(list(map(lambda x: x.split(\" \"), data_field)), \n",
    "                              columns= [\"timestamp\", \"RrInterval\"])\n",
    "\n",
    "# Cast value as int\n",
    "df_exploration[\"RrInterval\"] = df_exploration[\"RrInterval\"].apply(lambda x : int(x))\n",
    "\n",
    "# set cleaned timestamp as index\n",
    "df_exploration[\"timestamp\"] = pd.to_datetime(df_exploration[\"timestamp\"])\n",
    "df_exploration = df_exploration.set_index(\"timestamp\")\n",
    "\n",
    "df_exploration.sample(10)"
   ]
  },
  {
   "cell_type": "markdown",
   "metadata": {},
   "source": [
    "# Pre processing to clean Outliers"
   ]
  },
  {
   "cell_type": "code",
   "execution_count": 4,
   "metadata": {},
   "outputs": [],
   "source": [
    "def clean_outlier(RrIntervals, removing_rule = 0.2):\n",
    "    \"\"\"\n",
    "    RR intervals differing by more than the removing_rule from the one proceeding \n",
    "    it are removed.\n",
    "    \n",
    "    Arguments\n",
    "    ---------\n",
    "    RrIntervals - list of Rr Intervals\n",
    "    removing_rule - percentage criteria of difference with previous Rr Interval at \n",
    "    which we consider that it is abnormal\n",
    "    \n",
    "    Returns\n",
    "    ---------\n",
    "    NNIntervals - list of NN Interval\n",
    "\n",
    "    \"\"\" \n",
    "    NNIntervals = []\n",
    "    outlier_count = 0\n",
    "    for i, rri in enumerate(RrIntervals):        \n",
    "        if abs(rri - RrIntervals[i-1]) <= removing_rule * RrIntervals[i-1]:\n",
    "            NNIntervals.append(rri)\n",
    "        else:\n",
    "            if i > 0 and i < len(RrIntervals):\n",
    "                # A débattre, quelle gestion faire pour remplacer les outliers ?\n",
    "                NNInterval = (RrIntervals[i-1] + RrIntervals[i+1]) / 2\n",
    "                NNIntervals.append(NNInterval)\n",
    "            outlier_count += 1\n",
    "    print(\"Il y a {} outliers qui ont été supprimés\".format(outlier_count))\n",
    "    return NNIntervals\n"
   ]
  },
  {
   "cell_type": "code",
   "execution_count": 5,
   "metadata": {},
   "outputs": [
    {
     "name": "stdout",
     "output_type": "stream",
     "text": [
      "Il y a 0 outliers qui ont été supprimés\n",
      "[736, 730, 719, 704, 712, 718, 724, 734, 744, 759]\n"
     ]
    }
   ],
   "source": [
    "NNIntervals = clean_outlier(df_exploration[\"RrInterval\"])\n",
    "\n",
    "print(NNIntervals[:10])"
   ]
  },
  {
   "cell_type": "markdown",
   "metadata": {},
   "source": [
    "# Time Domain Features"
   ]
  },
  {
   "cell_type": "code",
   "execution_count": 6,
   "metadata": {},
   "outputs": [],
   "source": [
    "def get_time_domain_features(NNIntervals):\n",
    "    \"\"\"\n",
    "    Function returning a dictionnary containing time domain features for \n",
    "    HRV analyses.\n",
    "    Must use this function on short term recordings, from 2 to 5 minutes \n",
    "    window.\n",
    "    \n",
    "    Arguments\n",
    "    ----------\n",
    "    NNIntervals - list of Normal to Normal Interval\n",
    "    \n",
    "    Returns\n",
    "    ----------\n",
    "    timeDomainFeaturess - dictionnary containing time domain features for \n",
    "    HRV analyses. Thera are details about each features below.\n",
    "    \n",
    "    Notes\n",
    "    ----------\n",
    "    Details about feature engineering...\n",
    "    \n",
    "    - **meanNN**: The the mean RR interval\n",
    "    \n",
    "    - **SDANN**: The standard deviation of the time interval between successive normal heart \n",
    "    beats (*i.e.*, the RR intervals)\n",
    "    \n",
    "    - **SDSD**: Standard deviation of differences between adjacent NN intervals\n",
    "    \n",
    "    - **RMSSD**: Root mean square of the RR intervals (*i.e.*, square root of the mean \n",
    "    of the squared differences in time between successive normal heart beats). Reflects high \n",
    "    frequency (fast or parasympathetic) influences on HRV (*i.e.*, those influencing larger \n",
    "    changes from one beat to the next).\n",
    "    \n",
    "    - **medianNN**: Median Absolute values of the successive Differences between the RR intervals.\n",
    "\n",
    "    - **NN50**: Number of interval differences of successive RR intervals greater than 50 ms.\n",
    "\n",
    "    - **pNN50**: The proportion derived by dividing NN50 (The number of interval differences of \n",
    "    successive RR intervals greater than 50 ms) by the total number of RR intervals.\n",
    "\n",
    "    - **NN20**: Number of interval differences of successive RR intervals greater than 20 ms.\n",
    "\n",
    "    - **pNN20**: The proportion derived by dividing NN20 (The number of interval differences of \n",
    "    successive RR intervals greater than 20 ms) by the total number of RR intervals.\n",
    "\n",
    "    - **CVSD**: The coefficient of variation of successive differences (van Dellen et al., 1985), \n",
    "    the RMSSD divided by meanNN.\n",
    "    \n",
    "    - **RangeNN**: différence between the maximum and minimum NNInterval.\n",
    "    \n",
    "    \n",
    "    References\n",
    "    ----------\n",
    "    TO DO\n",
    "    \n",
    "    \"\"\"\n",
    "    \n",
    "    diff_nni = np.diff(NNIntervals)\n",
    "    L = len(NNIntervals)\n",
    "    \n",
    "    meanNN = np.mean(NNIntervals)\n",
    "    SDANN = np.std(NNIntervals, ddof=1) # ddof = 1 : estimateur non biaisé => divise std par n-1\n",
    "    SDSD = np.std(diff_nni)\n",
    "    RMSSD = np.sqrt(np.mean(diff_nni ** 2))\n",
    "    medianNN = np.median(NNIntervals)\n",
    "    \n",
    "    NN50 = sum(abs(diff_nni) > 50)\n",
    "    pNN50 = 100 * NN50 / L\n",
    "    NN20 = sum(abs(diff_nni) > 20)\n",
    "    pNN20 = 100 * NN20 / L\n",
    "    \n",
    "    RangeNN = max(NNIntervals) - min(NNIntervals)\n",
    "    \n",
    "    # Feature(s) trouvée(s) sur les codes github et non dans la doc\n",
    "    #CVSD = RMMSD / meanNN\n",
    "    \n",
    "    # Features non calculables pour short term recordings\n",
    "    #SDNN équivaut à SDANN sur 24h et non sur une fenêtre temporelle\n",
    "    #cvNN = SDNN / meanNN # Necissite cycle 24h\n",
    "    \n",
    "    timeDomainFeaturess = {\n",
    "        'meanNN': meanNN, \n",
    "        'SDANN': SDANN, \n",
    "        'SDSD': SDSD, \n",
    "        'NN50': NN50,\n",
    "        'pNN50' : pNN50, \n",
    "        'NN20' : NN20, \n",
    "        'pNN20' : pNN20, \n",
    "        'RMSSD' : RMSSD,\n",
    "        'MedianNN' : medianNN, \n",
    "        'RangeNN' : RangeNN\n",
    "        #,'CVSD' : CVSD,\n",
    "        #'SDNN' : SDNN,\n",
    "        #'cvNN' : cvNN\n",
    "        \n",
    "    }\n",
    "    \n",
    "    return timeDomainFeaturess\n",
    "\n",
    "# TO DO\n",
    "# GEOMETRICAL FEATURES"
   ]
  },
  {
   "cell_type": "code",
   "execution_count": 7,
   "metadata": {},
   "outputs": [
    {
     "data": {
      "text/plain": [
       "{'meanNN': 718.248,\n",
       " 'SDANN': 43.113074968427306,\n",
       " 'SDSD': 19.519367520775713,\n",
       " 'NN50': 24,\n",
       " 'pNN50': 2.4,\n",
       " 'NN20': 225,\n",
       " 'pNN20': 22.5,\n",
       " 'RMSSD': 19.519400785039664,\n",
       " 'MedianNN': 722.5,\n",
       " 'RangeNN': 249}"
      ]
     },
     "execution_count": 7,
     "metadata": {},
     "output_type": "execute_result"
    }
   ],
   "source": [
    "get_time_domain_features(NNIntervals)"
   ]
  },
  {
   "cell_type": "markdown",
   "metadata": {},
   "source": [
    "# Frequency Domain Features"
   ]
  },
  {
   "cell_type": "code",
   "execution_count": 8,
   "metadata": {},
   "outputs": [],
   "source": [
    "def get_frequency_domain_features(NNIntervals, sampling_frequency = 8, interpolation_method = \"linear\", \n",
    "                                 VLF_band = [0.0033, 0.04], LF_band = [0.04, 0.15], HF_band = [0.15, 0.40],\n",
    "                                 plot = 0):\n",
    "    \"\"\"\n",
    "    Function returning a dictionnary containing frequency domain features \n",
    "    for HRV analyses.\n",
    "    Must use this function on short term recordings, from 2 to 5 minutes \n",
    "    window.\n",
    "    \n",
    "    Arguments\n",
    "    ---------\n",
    "    NNIntervals - list of Normal to Normal Interval\n",
    "    sampling_frequency - frequence at which the signal is sampled\n",
    "    interpolation_method - kind of interpolation as a string, by default \"linear\"\n",
    "    VLF_band - Very low frequency band for features extraction from power spectral density\n",
    "    LF_band - Low frequency band for features extraction from power spectral density\n",
    "    HF_band - High frequency band for features extraction from power spectral density\n",
    "    \n",
    "    Returns\n",
    "    ---------\n",
    "    freqency_domain_features - dictionnary containing frequency domain features \n",
    "    for HRV analyses. Thera are details about each features are given in \n",
    "    \"get_features_from_PSD\" function.\n",
    "    \n",
    "    References\n",
    "    ----------\n",
    "    TO DO\n",
    "    \"\"\"\n",
    "\n",
    "    # ---------- Interpolation du signal ---------- #\n",
    "    \n",
    "    timestamps = create_time_info(NNIntervals)\n",
    "    function = interpolate.interp1d(x = timestamps, y = NNIntervals, \n",
    "                             kind = interpolation_method)\n",
    "    \n",
    "    timestamps_interpolation = create_interpolation_time(NNIntervals, sampling_frequency)\n",
    "    NNI_interpolation = function(timestamps_interpolation)\n",
    "    \n",
    "    # Remove DC Component\n",
    "    NNI_normalized = NNI_interpolation - np.mean(NNI_interpolation)\n",
    "    \n",
    "    #  ----------  Calcul PSD  ---------- #\n",
    "    # Describes the distribution of power into frequency components \n",
    "    # composing that signal.\n",
    "    freq, Pxx = signal.welch(x = NNI_normalized, fs = sampling_frequency,\n",
    "                            window = 'hann')    \n",
    "\n",
    "    # ----------  Calcul des features  ---------- #\n",
    "    freqency_domain_features = get_features_from_PSD(freq = freq, Pxx = Pxx,\n",
    "                                                     VLF_band = VLF_band,\n",
    "                                                     LF_band = LF_band,\n",
    "                                                     HF_band = HF_band)\n",
    "   \n",
    "    # TO DO \n",
    "    if plot == 1:\n",
    "        plot_labels = ['VLF', 'LF', 'HF']\n",
    "        #Plot option\n",
    "        freq_bands = {'VLF': VLF_band, 'LF': LF_band, 'HF': HF_band}\n",
    "        freq_bands = OrderedDict(sorted(freq_bands.items(), key=lambda t: t[0]))\n",
    "        colors = ['lightsalmon', 'lightsteelblue', 'darkseagreen']\n",
    "        fig, ax = plt.subplots(1)\n",
    "        ax.plot(freq, Pxx, c = 'grey')\n",
    "        plt.xlim([0, 0.40])\n",
    "        plt.xlabel(r'Frequency $(Hz)$')\n",
    "        plt.ylabel(r'PSD $(s^2/Hz$)')\n",
    "\n",
    "        for c, key in enumerate(freq_bands):\n",
    "            ax.fill_between(freq[min(np.where(freq >= freq_bands[key][0])[0]): max(np.where(freq <= freq_bands[key][1])[0])],\n",
    "                            Pxx[min(np.where(freq >= freq_bands[key][0])[0]): max(np.where(freq <= freq_bands[key][1])[0])],\n",
    "                            0, facecolor = colors[c])\n",
    "\n",
    "        patch1 = mpatches.Patch(color = colors[0], label = plot_labels[2])\n",
    "        patch2 = mpatches.Patch(color = colors[1], label = plot_labels[1])\n",
    "        patch3 = mpatches.Patch(color = colors[2], label = plot_labels[0])\n",
    "        plt.legend(handles = [patch1, patch2, patch3])\n",
    "        plt.show()\n",
    "    \n",
    "    return freqency_domain_features\n",
    "\n",
    "def create_time_info(NNIntervals):\n",
    "    \"\"\"\n",
    "    Function creating time interval of all NNIntervals\n",
    "    \n",
    "    Arguments\n",
    "    ---------\n",
    "    NNIntervals - list of Normal to Normal Interval\n",
    "    \n",
    "    Returns\n",
    "    ---------\n",
    "    NNI_tmstp - time interval between first NN Interval and final NN Interval\n",
    "    \"\"\"\n",
    "    # Convert in seconds\n",
    "    NNI_tmstp = np.cumsum(NNIntervals) / 1000.0 \n",
    "    \n",
    "    # Force to start at 0\n",
    "    return NNI_tmstp - NNI_tmstp[0]\n",
    "\n",
    "def create_interpolation_time(NNIntervals, sampling_frequency = 8):\n",
    "    \"\"\"\n",
    "    Function creating the interpolation time used for Fourier transform's method\n",
    "    \n",
    "    Arguments\n",
    "    ---------\n",
    "    NNIntervals - list of Normal to Normal Interval\n",
    "    sampling_frequency - frequence at which the signal is sampled\n",
    "    \n",
    "    Returns\n",
    "    ---------\n",
    "    NNI_interpolation_tmstp - timestamp for interpolation\n",
    "    \"\"\"\n",
    "    time_NNI = create_time_info(NNIntervals)\n",
    "    # Create timestamp for interpolation\n",
    "    NNI_interpolation_tmstp = np.arange(0, time_NNI[-1], 1 / float(sampling_frequency))\n",
    "    return NNI_interpolation_tmstp\n",
    "\n",
    "\n",
    "def get_features_from_PSD(freq, Pxx, VLF_band = [0.0033, 0.04], \n",
    "                              LF_band = [0.04, 0.15], \n",
    "                              HF_band = [0.15, 0.40]): #, ULF_band):\n",
    "    \"\"\"\n",
    "    Function computing frequency domain features from the power spectral \n",
    "    decomposition.\n",
    "    \n",
    "    Arguments\n",
    "    ---------\n",
    "    freq - Array of sample frequencies\n",
    "    Pxx - Power spectral density or power spectrum\n",
    "    \n",
    "    Returns\n",
    "    ---------\n",
    "    freqency_domain_features - dictionnary containing frequency domain features \n",
    "    for HRV analyses. Thera are details about each features are given below. \n",
    "\n",
    "    Notes\n",
    "    ---------\n",
    "    Details about feature engineering...\n",
    "    \n",
    "    - **total_power** : Total power density spectra\n",
    "    \n",
    "    - **VLF** : variance ( = power ) in HRV in the Very Low Frequency (.003 to .04 Hz by\n",
    "    default). Reflect an intrinsic rhythm produced by the heart which is modulated primarily by \n",
    "    sympathetic activity.\n",
    "    \n",
    "    - **LF** : variance ( = power ) in HRV in the Low Frequency (.04 to .15 Hz). Reflects a \n",
    "    mixture of sympathetic and parasympathetic activity, but in long-term recordings like ours, \n",
    "    it reflects sympathetic activity and can be reduced by the beta-adrenergic antagonist propanolol\n",
    "    \n",
    "    - **HF**: variance ( = power ) in HRV in the High Frequency (.15 to .40 Hz by default). \n",
    "    Reflects fast changes in beat-to-beat variability due to parasympathetic (vagal) activity. \n",
    "    Sometimes called the respiratory band because it corresponds to HRV changes related to the \n",
    "    respiratory cycle and can be increased by slow, deep breathing (about 6 or 7 breaths per \n",
    "    minute) and decreased by anticholinergic drugs or vagal blockade.\n",
    "    \n",
    "    - **LF_HF_ratio** : LF/HF ratio is sometimes used by some investigators as a quantitative mirror \n",
    "    of the sympatho/vagal balance.\n",
    "    \n",
    "    - **LFnu** : normalized LF power\n",
    "    \n",
    "    - **HFnu** : normalized HF power\n",
    "    \n",
    "    References\n",
    "    ---------\n",
    "    TO DO\n",
    "    \n",
    "    \"\"\"\n",
    "    \n",
    "    # Calcul des indices selon les bandes de fréquences souhaitées\n",
    "    VLF_indexes = np.logical_and(freq >= VLF_band[0], freq < VLF_band[1])\n",
    "    LF_indexes = np.logical_and(freq >= LF_band[0], freq < LF_band[1])\n",
    "    HF_indexes = np.logical_and(freq >= HF_band[0], freq < HF_band[1])\n",
    "\n",
    "    # STANDARDS\n",
    "\n",
    "    # Integrate using the composite trapezoidal rule\n",
    "    VLF = np.trapz(y=Pxx[VLF_indexes], x=freq[VLF_indexes])\n",
    "    LF = np.trapz(y=Pxx[LF_indexes], x=freq[LF_indexes])\n",
    "    HF = np.trapz(y=Pxx[HF_indexes], x=freq[HF_indexes])\n",
    "\n",
    "    # Feature utilisée plus souvent dans les analyses \"Long term recordings\"\n",
    "    total_power = VLF + LF + HF\n",
    "    \n",
    "    LF_HR_ratio = LF / HF\n",
    "    LFnu = (LF / (total_power - VLF)) * 100\n",
    "    HFnu = (HF / (total_power - VLF)) * 100\n",
    "\n",
    "    \n",
    "    # Features non calculables pour \"short term recordings\"\n",
    "    #ULF = np.trapz(y=Pxx[ULF_indexes], x=freq[ULF_indexes])\n",
    "\n",
    "    # Feature(s) trouvée(s) sur les codes github et non dans la doc\n",
    "    #LFn = LF / (LF + HF)\n",
    "    #HFn = HF /(LF + HF)\n",
    "    #LF_P_ratio = LF / total_power\n",
    "    #HF_P_ratio = HF/ total_power\n",
    "\n",
    "    freqency_domain_features = {\n",
    "        'total_power' : total_power,\n",
    "        'VLF' : VLF,\n",
    "        'LF' : LF,\n",
    "        'HF' : HF,\n",
    "        'LF_HR_ratio' : LF_HR_ratio,\n",
    "        'LFnu' : LFnu,\n",
    "        'HFnu' : HFnu\n",
    "        #,'ULF' : ULF,\n",
    "        #'LFn': LFn,\n",
    "        #'HFn' : HFn,\n",
    "        #'LF_P_ratio' : LF_P_ratio,\n",
    "        #'HF_P_ratio' : HF_P_ratio\n",
    "    }\n",
    "    \n",
    "    return freqency_domain_features"
   ]
  },
  {
   "cell_type": "markdown",
   "metadata": {},
   "source": [
    "# Input Data"
   ]
  },
  {
   "cell_type": "code",
   "execution_count": 10,
   "metadata": {
    "scrolled": false
   },
   "outputs": [
    {
     "data": {
      "text/plain": [
       "<matplotlib.collections.PathCollection at 0x11e028f98>"
      ]
     },
     "execution_count": 10,
     "metadata": {},
     "output_type": "execute_result"
    },
    {
     "data": {
      "image/png": "[encoded data removed]",
      "text/plain": [
       "<Figure size 864x576 with 1 Axes>"
      ]
     },
     "metadata": {},
     "output_type": "display_data"
    }
   ],
   "source": [
    "plt.figure(figsize=(12,8))\n",
    "plt.scatter(np.arange(100), y = NNIntervals[:100])"
   ]
  },
  {
   "cell_type": "markdown",
   "metadata": {},
   "source": [
    "##  Interpolation du signal"
   ]
  },
  {
   "cell_type": "code",
   "execution_count": 11,
   "metadata": {
    "scrolled": false
   },
   "outputs": [
    {
     "data": {
      "image/png": "[encoded data removed]",
      "text/plain": [
       "<Figure size 864x576 with 1 Axes>"
      ]
     },
     "metadata": {},
     "output_type": "display_data"
    }
   ],
   "source": [
    "# ---------- Interpolation du signal linéaire ---------- #\n",
    "\n",
    "timestamps = create_time_info(NNIntervals)\n",
    "function = interpolate.interp1d(x = timestamps, y = NNIntervals, \n",
    "                             kind = 'linear')\n",
    "    \n",
    "timestamps_interpolation = create_interpolation_time(NNIntervals, sampling_frequency = 8)\n",
    "NNI_interpolation_linear = function(timestamps_interpolation)\n",
    "\n",
    "# ---------- Interpolation du signal cubique ---------- #\n",
    "\n",
    "timestamps = create_time_info(NNIntervals)\n",
    "function = interpolate.interp1d(x = timestamps, y = NNIntervals, \n",
    "                             kind = 'cubic')\n",
    "    \n",
    "timestamps_interpolation = create_interpolation_time(NNIntervals, sampling_frequency = 8)\n",
    "NNI_interpolation_cubic = function(timestamps_interpolation)\n",
    "\n",
    "# ---------- Plot ---------- #\n",
    "y = np.cumsum(NNI_interpolation_cubic[:100])/1000\n",
    "plt.figure(figsize=(12,8))\n",
    "plt.title(\"Interpolation cubique vs linéaire\")\n",
    "plt.plot(y, NNI_interpolation_linear[:100], label = \"Linear\")\n",
    "plt.plot(y, NNI_interpolation_cubic[:100], label = \"cubic\")\n",
    "plt.ylabel('RRI')\n",
    "plt.xlabel('Tmstp (s)')\n",
    "plt.legend(loc = \"best\")\n",
    "plt.show()"
   ]
  },
  {
   "cell_type": "code",
   "execution_count": 12,
   "metadata": {},
   "outputs": [
    {
     "data": {
      "text/plain": [
       "<matplotlib.collections.PathCollection at 0x12048bf60>"
      ]
     },
     "execution_count": 12,
     "metadata": {},
     "output_type": "execute_result"
    },
    {
     "data": {
      "image/png": "[encoded data removed]",
      "text/plain": [
       "<Figure size 864x576 with 1 Axes>"
      ]
     },
     "metadata": {},
     "output_type": "display_data"
    }
   ],
   "source": [
    "plt.figure(figsize=(12,8))\n",
    "plt.scatter(np.arange(18), y = NNIntervals[:18])"
   ]
  },
  {
   "cell_type": "markdown",
   "metadata": {},
   "source": [
    "# Calcul de la PSD - FFT / Welch"
   ]
  },
  {
   "cell_type": "code",
   "execution_count": 33,
   "metadata": {},
   "outputs": [
    {
     "data": {
      "text/html": [
       "<img src=\"image.png\" width=\"600\" height=\"600\"/>"
      ],
      "text/plain": [
       "<IPython.core.display.Image object>"
      ]
     },
     "execution_count": 33,
     "metadata": {},
     "output_type": "execute_result"
    }
   ],
   "source": [
    "#  ---------- Removing DC Component ---------- #\n",
    "RRseries = NNI_interpolation_linear - np.mean(NNI_interpolation_linear)\n",
    "\n",
    "from IPython.display import Image\n",
    "from IPython.core.display import HTML \n",
    "Image(url= \"image.png\", width=600, height=600)"
   ]
  },
  {
   "cell_type": "code",
   "execution_count": 41,
   "metadata": {},
   "outputs": [
    {
     "data": {
      "image/png": "[encoded data removed]",
      "text/plain": [
       "<Figure size 864x576 with 1 Axes>"
      ]
     },
     "metadata": {},
     "output_type": "display_data"
    }
   ],
   "source": [
    "#  ----------  Calcul PSD  ---------- #\n",
    "freq, Pxx = signal.welch(x = RRseries[:1000], fs = 4, window = 'hann')\n",
    "\n",
    "#Plot\n",
    "plt.figure(figsize=(12,8))\n",
    "plt.title(\"Frequency Spectrum of Heart Rate Variability\")\n",
    "plt.xlim(0.03, 0.5) \n",
    "# For visibility\n",
    "plt.ylim(0, 2)# \n",
    "plt.plot(freq[::2], abs(Pxx[::2]) / n) \n",
    "plt.xlabel(\"Frequencies in Hz\")\n",
    "plt.show()"
   ]
  },
  {
   "cell_type": "code",
   "execution_count": 32,
   "metadata": {},
   "outputs": [
    {
     "data": {
      "text/html": [
       "<img src=\"psd.png\" width=\"600\" height=\"600\"/>"
      ],
      "text/plain": [
       "<IPython.core.display.Image object>"
      ]
     },
     "execution_count": 32,
     "metadata": {},
     "output_type": "execute_result"
    }
   ],
   "source": [
    "Image(url= \"psd.png\", width=600, height=600)"
   ]
  },
  {
   "cell_type": "code",
   "execution_count": 14,
   "metadata": {},
   "outputs": [
    {
     "data": {
      "text/plain": [
       "{'total_power': 488.2086516182612,\n",
       " 'VLF': 0.0,\n",
       " 'LF': 327.45531909303725,\n",
       " 'HF': 160.75333252522393,\n",
       " 'LF_HR_ratio': 2.0370048567525405,\n",
       " 'LFnu': 67.07282183706164,\n",
       " 'HFnu': 32.92717816293836}"
      ]
     },
     "execution_count": 14,
     "metadata": {},
     "output_type": "execute_result"
    }
   ],
   "source": [
    "get_frequency_domain_features(NNIntervals)"
   ]
  },
  {
   "cell_type": "markdown",
   "metadata": {},
   "source": [
    "# Non Linear Domain Features"
   ]
  },
  {
   "cell_type": "code",
   "execution_count": 16,
   "metadata": {
    "scrolled": false
   },
   "outputs": [
    {
     "data": {
      "image/png": "[encoded data removed]",
      "text/plain": [
       "<Figure size 864x720 with 1 Axes>"
      ]
     },
     "metadata": {},
     "output_type": "display_data"
    }
   ],
   "source": [
    "def plotPoincare(NNIntervals):\n",
    "    \"\"\"\n",
    "    Plot the Pointcare / Lorentz Plot\n",
    "    \n",
    "    Arguments\n",
    "    ---------\n",
    "    NNIntervals - list of NN intervals\n",
    "        \n",
    "    Returns\n",
    "    ---------\n",
    "    Poincare plot  \n",
    "\n",
    "    Notes\n",
    "    ---------\n",
    "    The transverse axis (T) reflects beat-to-beat variation\n",
    "    the longitudinal axis (L) reflects the overall fluctuation\n",
    "    \"\"\"\n",
    "    ax1 = RRints[:-1]\n",
    "    ax2 = RRints[1:]   \n",
    "    \n",
    "    plt.figure(figsize=(12,10))\n",
    "    plt.title(\"Pointcare / Lorentz Plot\", )\n",
    "    plt.scatter(ax1, ax2, c = 'r', s = 12)\n",
    "    plt.xlabel('RR_n (s)')\n",
    "    plt.ylabel('RR_n+1 (s)')\n",
    "    plt.show()\n",
    "    \n",
    "plotPoincare(NNIntervals)"
   ]
  },
  {
   "cell_type": "code",
   "execution_count": 17,
   "metadata": {},
   "outputs": [
    {
     "data": {
      "text/html": [
       "<img src=\"pointcareplot.png\" width=\"800\" height=\"800\"/>"
      ],
      "text/plain": [
       "<IPython.core.display.Image object>"
      ]
     },
     "execution_count": 17,
     "metadata": {},
     "output_type": "execute_result"
    }
   ],
   "source": [
    "Image(url= \"pointcareplot.png\", \n",
    "      width=800, height=800)"
   ]
  },
  {
   "cell_type": "code",
   "execution_count": 18,
   "metadata": {},
   "outputs": [
    {
     "name": "stdout",
     "output_type": "stream",
     "text": [
      "{'CSI': 4.300520404060338, 'CVI': 4.117977429005704, 'Modified_CSI': 1021.5749458778378}\n",
      "\n",
      "{'SD1': 13.80919037557993, 'SD2': 59.38670497373513, 'ratio_SD1_SD2': 0.2325299977779084}\n",
      "\n",
      "{'Sampen': 1.2046675751816824}\n"
     ]
    }
   ],
   "source": [
    "def get_csi_cvi_features(NNIntervals):\n",
    "    \"\"\"\n",
    "    Function returning a dictionnary containing 3 features from non linear domain  \n",
    "    for HRV analyses.\n",
    "    Must use this function on short term recordings, for 30 , 50, 100 Rr Intervals \n",
    "    or seconds window.\n",
    "\n",
    "    Arguments\n",
    "    ---------\n",
    "    NNIntervals - list of Normal to Normal Interval\n",
    "\n",
    "    Returns\n",
    "    ---------\n",
    "    csi_cvi_features - dictionnary containing non linear domain features \n",
    "    for HRV analyses. Thera are details about each features are given below. \n",
    "    \n",
    "    Notes\n",
    "    ---------\n",
    "    - **CSI** : \n",
    "    - **CVI** : \n",
    "    - **Modified_CSI** : \n",
    "    \n",
    "    References\n",
    "    ----------\n",
    "    TO DO    \n",
    "    \"\"\"\n",
    "    \n",
    "    # Measures the width and length of poincare cloud\n",
    "    poincare_plot_features = get_poincare_plot_features(NNIntervals)\n",
    "    T = 4 * poincare_plot_features['SD1']\n",
    "    L = 4 * poincare_plot_features['SD2']\n",
    "    \n",
    "    CSI = L / T\n",
    "    CVI = np.log10(L * T)\n",
    "    Modified_CSI = L**2 / T\n",
    "    \n",
    "    csi_cvi_features = {\n",
    "        'CSI' : CSI,\n",
    "        'CVI' : CVI,\n",
    "        'Modified_CSI' : Modified_CSI\n",
    "    }\n",
    "    \n",
    "    return csi_cvi_features\n",
    "\n",
    "def get_poincare_plot_features(NNIntervals):\n",
    "    \"\"\"\n",
    "    Function returning a dictionnary containing 3 features from non linear domain  \n",
    "    for HRV analyses.\n",
    "    Must use this function on short term recordings, from 5 minutes window.\n",
    "\n",
    "    Arguments\n",
    "    ---------\n",
    "    NNIntervals - list of Normal to Normal Interval\n",
    "\n",
    "    Returns\n",
    "    ---------\n",
    "    poincare_plot_features - dictionnary containing non linear domain features \n",
    "    for HRV analyses. Thera are details about each features are given below. \n",
    "    \n",
    "    Notes\n",
    "    ---------\n",
    "    - **SD1** : \n",
    "    - **SD2** : \n",
    "    - **ratio_SD1_SD2** : \n",
    "    \n",
    "    References\n",
    "    ----------\n",
    "    TO DO   \n",
    "    \"\"\"\n",
    "    diff_NNIntervals = np.diff(NNIntervals)\n",
    "    #measures the width of poincare cloud\n",
    "    SD1 = np.sqrt(np.std(diff_NNIntervals, ddof=1) ** 2 * 0.5)\n",
    "    #measures the length of the poincare cloud\n",
    "    SD2 = np.sqrt(2 * np.std(NNIntervals, ddof=1) ** 2 - 0.5 * np.std(diff_NNIntervals,\n",
    "                                                              ddof=1) ** 2)\n",
    "    ratio_SD1_SD2 = SD1 / SD2\n",
    "    \n",
    "    poincare_plot_features = {\n",
    "        'SD1' : SD1,\n",
    "        'SD2' : SD2,\n",
    "        'ratio_SD1_SD2' : ratio_SD1_SD2\n",
    "    }\n",
    "\n",
    "    return poincare_plot_features\n",
    "\n",
    "def get_sampen(NNIntervals):\n",
    "    \"\"\"\n",
    "    Must use this function on short term recordings, from 1 minute window.\n",
    "    TO DO\n",
    "    \"\"\"\n",
    "    SampEn = nolds.sampen(NNIntervals, emb_dim = 2)\n",
    "    return {'Sampen' : SampEn}\n",
    "\n",
    "print(get_csi_cvi_features(NNIntervals))\n",
    "print()\n",
    "print(get_poincare_plot_features(NNIntervals))\n",
    "print()\n",
    "print(get_sampen(NNIntervals))"
   ]
  },
  {
   "cell_type": "code",
   "execution_count": null,
   "metadata": {},
   "outputs": [],
   "source": []
  }
 ],
 "metadata": {
  "kernelspec": {
   "display_name": "Python 3",
   "language": "python",
   "name": "python3"
  },
  "language_info": {
   "codemirror_mode": {
    "name": "ipython",
    "version": 3
   },
   "file_extension": ".py",
   "mimetype": "text/x-python",
   "name": "python",
   "nbconvert_exporter": "python",
   "pygments_lexer": "ipython3",
   "version": "3.7.0"
  }
 },
 "nbformat": 4,
 "nbformat_minor": 2
}
